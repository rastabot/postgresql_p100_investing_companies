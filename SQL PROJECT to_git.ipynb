{
 "cells": [
  {
   "cell_type": "markdown",
   "metadata": {},
   "source": [
    "[db_schema]<img src=\"files/db.png\">"
   ]
  },
  {
   "cell_type": "markdown",
   "metadata": {},
   "source": [
    "1.\n",
    "Calculate how many companies have closed down."
   ]
  },
  {
   "cell_type": "code",
   "execution_count": null,
   "metadata": {},
   "outputs": [],
   "source": [
    "SELECT COUNT(name)\n",
    "FROM company\n",
    "WHERE status='closed'\n",
    "GROUP BY status;"
   ]
  },
  {
   "cell_type": "markdown",
   "metadata": {},
   "source": [
    "2.\n",
    "Print the amount of money raised for news companies in the US. Use data from the company table. Sort the resulting table in descending order of value in the funding_total field."
   ]
  },
  {
   "cell_type": "code",
   "execution_count": null,
   "metadata": {},
   "outputs": [],
   "source": [
    "select funding_total \n",
    "from company\n",
    "WHERE country_code = 'USA'\n",
    "AND category_code LIKE '%news%'\n",
    "ORDER BY funding_total DESC;"
   ]
  },
  {
   "cell_type": "markdown",
   "metadata": {},
   "source": [
    "3.\n",
    "Find the total price of the purchases of companies by other organizations in USD. Select the transactions that were carried out only in cash from 2011 to 2013 inclusive."
   ]
  },
  {
   "cell_type": "code",
   "execution_count": null,
   "metadata": {},
   "outputs": [],
   "source": [
    "select sum(price_amount)\n",
    "from acquisition\n",
    "WHERE term_code = 'cash'\n",
    "AND EXTRACT(YEAR FROM CAST(acquired_at as date)) BETWEEN 2011 and 2013"
   ]
  },
  {
   "cell_type": "markdown",
   "metadata": {},
   "source": [
    "4.\n",
    "Print names, last names, and the Twitter accounts of the people whose Twitter usernames begin with 'Silver'."
   ]
  },
  {
   "cell_type": "code",
   "execution_count": null,
   "metadata": {},
   "outputs": [],
   "source": [
    "select first_name,last_name,twitter_username\n",
    "from people\n",
    "where twitter_username LIKE 'Silver%'"
   ]
  },
  {
   "cell_type": "markdown",
   "metadata": {},
   "source": [
    "5.\n",
    "Print all information about the people whose Twitter usernames contain the substring 'money' and whose last name begins with 'K'."
   ]
  },
  {
   "cell_type": "code",
   "execution_count": null,
   "metadata": {},
   "outputs": [],
   "source": [
    "select * \n",
    "from people\n",
    "where twitter_username LIKE '%money%'\n",
    "and last_name LIKE 'K%'"
   ]
  },
  {
   "cell_type": "markdown",
   "metadata": {},
   "source": [
    "6.\n",
    "For each country, print the total investment that companies registered in that country have received. Sort the data in descending order."
   ]
  },
  {
   "cell_type": "code",
   "execution_count": null,
   "metadata": {},
   "outputs": [],
   "source": [
    "select country_code,\n",
    "       sum(funding_total) as rounds\n",
    "from company\n",
    "group by country_code\n",
    "order by rounds DESC;"
   ]
  },
  {
   "cell_type": "markdown",
   "metadata": {},
   "source": [
    "7.\n",
    "Create a table that includes the date the record was created in the table, together with the minimum and maximum values of the attracted investments.\n",
    "In addition to that, leave all records in the table where the minimum value of the investment is not zero and is also not equal to the maximum funding value."
   ]
  },
  {
   "cell_type": "code",
   "execution_count": null,
   "metadata": {},
   "outputs": [],
   "source": [
    "select CAST(created_at AS date),\n",
    "       MIN(funding_total) as min_funding,\n",
    "       MAX(funding_total) as max_funding\n",
    "from company\n",
    "group by CAST(created_at AS date)\n",
    "HAVING MIN(funding_total)!=0\n",
    "and MIN(funding_total)!= MAX(funding_total);"
   ]
  },
  {
   "cell_type": "markdown",
   "metadata": {},
   "source": [
    "8.\n",
    "Create a field with these categories:\n",
    "high_activity — funds that invest in 100 or more companies\n",
    "middle_activity — funds that invest in 20 to 100 companies\n",
    "low_activity — funds that invest in fewer than 20 companies\n",
    "Print all the fields in the fund table and the new category field."
   ]
  },
  {
   "cell_type": "code",
   "execution_count": null,
   "metadata": {},
   "outputs": [],
   "source": [
    "select *,\n",
    "        CASE\n",
    "            WHEN invested_companies > 100 THEN 'high_activity' \n",
    "            WHEN invested_companies BETWEEN 20 and 100 THEN 'middle_activity' \n",
    "            WHEN invested_companies <20 THEN 'low_activity'\n",
    "         END as activity\n",
    "from fund;"
   ]
  },
  {
   "cell_type": "markdown",
   "metadata": {},
   "source": [
    "9.\n",
    "For each of the categories assigned in the previous task, calculate the average number of investment rounds in which the fund participated, rounded to the nearest integer. Print the categories and the average number of investment rounds. Sort the table in ascending order of the average."
   ]
  },
  {
   "cell_type": "code",
   "execution_count": null,
   "metadata": {},
   "outputs": [],
   "source": [
    "SELECT activity,\n",
    "       ROUND(AVG(investment_rounds)) as avg_round\n",
    "FROM(\n",
    "    select *,\n",
    "            CASE\n",
    "                WHEN invested_companies > 100 THEN 'high_activity' \n",
    "                WHEN invested_companies BETWEEN 20 and 100 THEN 'middle_activity' \n",
    "                WHEN invested_companies <20 THEN 'low_activity'\n",
    "             END as activity\n",
    "    from fund\n",
    "    ) as f\n",
    "GROUP BY activity\n",
    "ORDER BY avg_round;"
   ]
  },
  {
   "cell_type": "markdown",
   "metadata": {},
   "source": [
    "10.\n",
    "Get a table with the ten most actively investing countries. Determine the activity of a country by the average number of companies in which the funds of this country invest.\n",
    "For each country, calculate the minimum, maximum, and average number of companies in which funds founded from 2010 to 2012, inclusive, have invested. Make sure to take only the year part of the date.\n",
    "Exclude from the table the countries with funds that have the minimum number of invested companies equal to zero."
   ]
  },
  {
   "cell_type": "code",
   "execution_count": null,
   "metadata": {},
   "outputs": [],
   "source": [
    " select  country_code,\n",
    "         MIN(invested_companies),\n",
    "         MAX(invested_companies),\n",
    "         AVG(invested_companies) as avg\n",
    "         \n",
    " from fund\n",
    " WHERE EXTRACT(YEAR FROM CAST(founded_at as date)) BETWEEN 2010 and 2012\n",
    " group by country_code\n",
    " having MIN(invested_companies) >0\n",
    " order by avg desc\n",
    " limit 10;"
   ]
  },
  {
   "cell_type": "markdown",
   "metadata": {},
   "source": [
    "11.\n",
    "Print names and last names of all startup employees. Add a field with the name of the educational institution that the employee graduated from if this information is known."
   ]
  },
  {
   "cell_type": "markdown",
   "metadata": {},
   "source": []
  },
  {
   "cell_type": "code",
   "execution_count": null,
   "metadata": {},
   "outputs": [],
   "source": [
    "SELECT p.first_name,\n",
    "       p.last_name,\n",
    "       e.instituition\n",
    "FROM people as p\n",
    "LEFT JOIN education as e ON p.id = e.person_id"
   ]
  },
  {
   "cell_type": "markdown",
   "metadata": {},
   "source": [
    "12.\n",
    "For each company, find the number of educational institutions that its employees graduated from. Print the names of the companies and the number of unique names of educational institutions. Create a list of the top 5 companies by the number of universities."
   ]
  },
  {
   "cell_type": "code",
   "execution_count": null,
   "metadata": {},
   "outputs": [],
   "source": [
    "WITH\n",
    "c AS (\n",
    "      SELECT id,\n",
    "              name\n",
    "       FROM company),\n",
    "p AS (\n",
    "       SELECT company_id,\n",
    "               id\n",
    "        FROM people),\n",
    "e AS (SELECT person_id,\n",
    "             instituition\n",
    "     FROM education)\n",
    " SELECT name,\n",
    "        COUNT(DISTINCT instituition) \n",
    " FROM c\n",
    " join p ON c.id = p.company_id\n",
    " join e on p.id = e.person_id\n",
    " group by name\n",
    " order by count DESC\n",
    " limit 5;"
   ]
  },
  {
   "cell_type": "markdown",
   "metadata": {},
   "source": [
    "13.\n",
    "Create a list of the closed companies for which the first round of funding was the last one."
   ]
  },
  {
   "cell_type": "code",
   "execution_count": null,
   "metadata": {},
   "outputs": [],
   "source": [
    "WITH \n",
    "c AS (  SELECt id,name,status\n",
    "        FROM company\n",
    "        WHERE status LIKE '%closed%'\n",
    "        ),\n",
    "f AS (SELECT company_id,\n",
    "             is_first_round,\n",
    "             is_last_round\n",
    "      FROM funding_round\n",
    "      WHERE is_first_round = 1\n",
    "        AND is_last_round = 1\n",
    "      )\n",
    " SELECT DISTINCT name\n",
    " FROM c\n",
    " inner join f ON c.id = f.company_id"
   ]
  },
  {
   "cell_type": "markdown",
   "metadata": {},
   "source": [
    "14.\n",
    "Create a list of IDs of the employees that work for the companies selected in the previous task."
   ]
  },
  {
   "cell_type": "code",
   "execution_count": null,
   "metadata": {},
   "outputs": [],
   "source": [
    "WITH \n",
    "c1 AS (WITH \n",
    "        c AS (  SELECt id,name,status\n",
    "                FROM company\n",
    "                WHERE status LIKE '%closed%'\n",
    "                ),\n",
    "        f AS (SELECT company_id,\n",
    "                     is_first_round,\n",
    "                     is_last_round\n",
    "              FROM funding_round\n",
    "              WHERE is_first_round = 1\n",
    "                AND is_last_round = 1\n",
    "              )\n",
    "         SELECT DISTINCT name\n",
    "         FROM c\n",
    "         inner join f ON c.id = f.company_id\n",
    "      ),\n",
    "c2 AS (SELECT name,id\n",
    "       FROM company\n",
    "      ),\n",
    "p AS (SELECT id as p_id\n",
    "      ,company_id\n",
    "     FROM people)      \n",
    "       \n",
    "SELECT p_id\n",
    "FROM c1\n",
    "LEFT JOIN c2 ON c1.name = c2.name\n",
    "INNER JOIN p on c2.id = p.company_id"
   ]
  },
  {
   "cell_type": "markdown",
   "metadata": {},
   "source": [
    "15.\n",
    "Create a table with the IDs of the employees from the previous task together with the educational institution they have graduated from."
   ]
  },
  {
   "cell_type": "code",
   "execution_count": null,
   "metadata": {},
   "outputs": [],
   "source": [
    "SELECT person_id,instituition\n",
    "FROM (\n",
    "        WITH \n",
    "        c1 AS (WITH \n",
    "                c AS (SELECt id,name,status\n",
    "                      FROM company\n",
    "                      WHERE status LIKE '%closed%'\n",
    "                      ),\n",
    "                f AS (SELECT company_id,\n",
    "                             is_first_round,\n",
    "                             is_last_round\n",
    "                      FROM funding_round\n",
    "                      WHERE is_first_round = 1\n",
    "                        AND is_last_round = 1\n",
    "                      )\n",
    "                 SELECT DISTINCT name\n",
    "                 FROM c\n",
    "                 inner join f ON c.id = f.company_id\n",
    "              ),\n",
    "        c2 AS (SELECT name,id\n",
    "               FROM company\n",
    "              ),\n",
    "        p AS (SELECT id as p_id\n",
    "              ,company_id\n",
    "             FROM people)      \n",
    "\n",
    "        SELECT p_id\n",
    "        FROM c1\n",
    "        LEFT JOIN c2 ON c1.name = c2.name\n",
    "        INNER JOIN p on c2.id = p.company_id\n",
    "    ) as e_ids\n",
    "    INNER JOIN education as e ON e_ids.p_id = e.person_id"
   ]
  },
  {
   "cell_type": "markdown",
   "metadata": {},
   "source": [
    "16.\n",
    "Count the number of educational institutions for each employee from the previous task."
   ]
  },
  {
   "cell_type": "code",
   "execution_count": null,
   "metadata": {},
   "outputs": [],
   "source": [
    "SELECT person_id,\n",
    "       COUNT(instituition)\n",
    "FROM(       \n",
    "        SELECT person_id,instituition\n",
    "        FROM (\n",
    "                WITH \n",
    "                c1 AS (WITH \n",
    "                        c AS (SELECt id,name,status\n",
    "                              FROM company\n",
    "                              WHERE status LIKE '%closed%'\n",
    "                              ),\n",
    "                        f AS (SELECT company_id,\n",
    "                                     is_first_round,\n",
    "                                     is_last_round\n",
    "                              FROM funding_round\n",
    "                              WHERE is_first_round = 1\n",
    "                                AND is_last_round = 1\n",
    "                              )\n",
    "                         SELECT DISTINCT name\n",
    "                         FROM c\n",
    "                         inner join f ON c.id = f.company_id\n",
    "                      ),\n",
    "                c2 AS (SELECT name,id\n",
    "                       FROM company\n",
    "                      ),\n",
    "                p AS (SELECT id as p_id\n",
    "                      ,company_id\n",
    "                     FROM people)      \n",
    "\n",
    "                SELECT p_id\n",
    "                FROM c1\n",
    "                LEFT JOIN c2 ON c1.name = c2.name\n",
    "                INNER JOIN p on c2.id = p.company_id\n",
    "            ) as e_ids\n",
    "            INNER JOIN education as e ON e_ids.p_id = e.person_id\n",
    ") as p\n",
    "GROUP BY person_id;"
   ]
  },
  {
   "cell_type": "markdown",
   "metadata": {},
   "source": [
    "17.\n",
    "Print the average number of educational institutions that employees of different companies have graduated from. Just print one record, there is no need for grouping here\n",
    "\n",
    "Use a subquery to find the average of the data you got from the statement in the previous task"
   ]
  },
  {
   "cell_type": "code",
   "execution_count": null,
   "metadata": {},
   "outputs": [],
   "source": [
    "SELECT AVG(count)\n",
    "FROM (\n",
    "        SELECT person_id,\n",
    "               COUNT(instituition)\n",
    "        FROM(       \n",
    "                SELECT person_id,instituition\n",
    "                FROM (\n",
    "                        WITH \n",
    "                        c1 AS (WITH \n",
    "                                c AS (SELECt id,name,status\n",
    "                                      FROM company\n",
    "                                      WHERE status LIKE '%closed%'\n",
    "                                      ),\n",
    "                                f AS (SELECT company_id,\n",
    "                                             is_first_round,\n",
    "                                             is_last_round\n",
    "                                      FROM funding_round\n",
    "                                      WHERE is_first_round = 1\n",
    "                                        AND is_last_round = 1\n",
    "                                      )\n",
    "                                 SELECT DISTINCT name\n",
    "                                 FROM c\n",
    "                                 inner join f ON c.id = f.company_id\n",
    "                              ),\n",
    "                        c2 AS (SELECT name,id\n",
    "                               FROM company\n",
    "                              ),\n",
    "                        p AS (SELECT id as p_id\n",
    "                              ,company_id\n",
    "                             FROM people)      \n",
    "\n",
    "                        SELECT p_id\n",
    "                        FROM c1\n",
    "                        LEFT JOIN c2 ON c1.name = c2.name\n",
    "                        INNER JOIN p on c2.id = p.company_id\n",
    "                    ) as e_ids\n",
    "                    INNER JOIN education as e ON e_ids.p_id = e.person_id\n",
    "        ) as p\n",
    "        GROUP BY person_id\n",
    "    ) as p2;"
   ]
  },
  {
   "cell_type": "markdown",
   "metadata": {},
   "source": [
    "18.\n",
    "Print the average number of educational institutions that Facebook employees graduated from."
   ]
  },
  {
   "cell_type": "code",
   "execution_count": null,
   "metadata": {},
   "outputs": [],
   "source": [
    "SELECT AVG(count)\n",
    "FROM (\n",
    "        WITH\n",
    "         p AS (SELECT id \n",
    "                FROM people\n",
    "                WHERE company_id = 5\n",
    "             ),\n",
    "         e AS (SELECT person_id,\n",
    "                      instituition\n",
    "              FROM education)\n",
    "        SELECT person_id,\n",
    "               COUNT(instituition)\n",
    "        FROM p \n",
    "        INNER JOIN e ON p.id = e.person_id\n",
    "        GROUP BY person_id\n",
    "    ) as fb\n"
   ]
  },
  {
   "cell_type": "markdown",
   "metadata": {},
   "source": [
    "19.\n",
    "Create a table that consists of the following fields:\n",
    "name_of_fund — the name of the fund\n",
    "name_of_company — the name of the company\n",
    "amount — the investments that the company attracted in the round\n",
    "The table must include data on companies with more than six important milestones in their history, and that had funding rounds that took place in 2012 and 2013."
   ]
  },
  {
   "cell_type": "code",
   "execution_count": null,
   "metadata": {},
   "outputs": [],
   "source": [
    "select  f.name as name_of_fund ,\n",
    "        c.name as name_of_company ,\n",
    "       --i.company_id,\n",
    "       --i.fund_id,       \n",
    "         fr.raised_amount\n",
    "from investment as i\n",
    "right join company as c ON i.company_id = c.id\n",
    "left join fund as f ON i.fund_id = f.id\n",
    "left join funding_round as fr ON i.funding_round_id =fr.id\n",
    "where c.milestones >6\n",
    "and EXTRACT(YEAR FROM CAST(fr.funded_at as date)) IN (2012,2013)"
   ]
  },
  {
   "cell_type": "markdown",
   "metadata": {},
   "source": [
    "20.\n",
    "Get a table with the following fields:\n",
    "The name of the buying company\n",
    "The price of the purchase\n",
    "The name of the company that was bought\n",
    "The investments invested in the purchased company\n",
    "The date when the company was acquired\n",
    "A ratio that shows how many times the purchase price exceeded the investments in the company, rounded up to the nearest integer.\n",
    "Do not count those purchases in which the purchase price is equal to zero. Apart from that, if the investment in an acquired company is zero, exclude that company from the table too.\n",
    "Sort the table by the purchase price from highest to lowest. Limit the table to the first ten entries."
   ]
  },
  {
   "cell_type": "code",
   "execution_count": null,
   "metadata": {},
   "outputs": [],
   "source": [
    "select c.name as acquiring_company,\n",
    "       --acquiring_company_id,\n",
    "       --acquired_company_id,\n",
    "       c2.name as acquired_company,\n",
    "       a.price_amount,\n",
    "       c2.funding_total,\n",
    "       a.acquired_at,\n",
    "       ROUND(a.price_amount/c2.funding_total)\n",
    "from acquisition as a\n",
    "inner join company as c ON a.acquiring_company_id = c.id\n",
    "inner join company as c2 ON a.acquired_company_id = c2.id\n",
    "where a.price_amount >0\n",
    "and c2.funding_total >0\n",
    "order by a.price_amount desc\n",
    "limit 10;"
   ]
  },
  {
   "cell_type": "markdown",
   "metadata": {},
   "source": [
    "21.\n",
    "Get a table with the names of companies from the social category that received funding from 2010 to 2013, together with the number of the month when the funding round took place."
   ]
  },
  {
   "cell_type": "code",
   "execution_count": null,
   "metadata": {},
   "outputs": [],
   "source": [
    "select c.name,\n",
    "       --c.category_code,\n",
    "       EXTRACT(MONTH FROM CAST(fr.funded_at as date)) as month\n",
    "from company as c\n",
    "inner join funding_round as fr ON c.id = fr.company_id\n",
    "where category_code LIKE '%social%'\n",
    " and EXTRACT(YEAR FROM CAST(fr.funded_at as date)) BETWEEN 2010 and 2013"
   ]
  },
  {
   "cell_type": "markdown",
   "metadata": {},
   "source": [
    "22.\n",
    "For each month from 2010 to 2013, find the number of unique funds registered in the US.\n",
    "Get a table that contains the following fields:\n",
    "The number of the month\n",
    "The number of unique funds from the US\n",
    "The number of purchases\n",
    "The total turnover of transactions per month"
   ]
  },
  {
   "cell_type": "code",
   "execution_count": null,
   "metadata": {},
   "outputs": [],
   "source": [
    "WITH\n",
    "a as (select EXTRACT(MONTH FROM CAST(fr.funded_at as date)) as month,\n",
    "       COUNT(DISTINCT f.id) as unique_us_funds     \n",
    "       --sum(fr.raised_amount) as total_of_purchases\n",
    "        from fund as f\n",
    "        join investment as i on f.id = i.fund_id\n",
    "        join funding_round as fr on i.funding_round_id = fr.id\n",
    "        where f.country_code = 'USA'\n",
    "        and EXTRACT(YEAR FROM CAST(fr.funded_at as date)) BETWEEN 2010 and 2013\n",
    "        group by month),\n",
    "b as (select EXTRACT(MONTH FROM CAST(acquired_at as date)) as month,\n",
    "               COUNT(acquired_company_id),\n",
    "               SUM(price_amount)\n",
    "        from acquisition\n",
    "        WHERE EXTRACT(YEAR FROM CAST(acquired_at as date)) BETWEEN 2010 and 2013\n",
    "        GROUP BY month)\n",
    " SELECT a.month,\n",
    "        a.unique_us_funds,\n",
    "        b.count,\n",
    "        b.sum\n",
    " FROM a join b on a.month = b.month"
   ]
  },
  {
   "cell_type": "markdown",
   "metadata": {},
   "source": [
    "23.\n",
    "Create a table with the average investment for each country in 2011, 2012, and 2013. Print the data for each year in a separate field. Sort the table by 2011 average investment from highest to lowest.\n",
    "Note that we only want to consider countries with data across all three of these years."
   ]
  },
  {
   "cell_type": "code",
   "execution_count": null,
   "metadata": {},
   "outputs": [],
   "source": [
    "-- the one\n",
    "WITH\n",
    "el as (select country_code,\n",
    "          avg(funding_total)\n",
    "       from company\n",
    "       where EXTRACT(YEAR FROM CAST(founded_at as date)) = 2011\n",
    "       group by country_code\n",
    "       ),\n",
    "tw as (select country_code,\n",
    "               avg(funding_total)\n",
    "        from company\n",
    "        where EXTRACT(YEAR FROM CAST(founded_at as date)) = 2012\n",
    "        group by country_code),\n",
    "th as (select country_code,\n",
    "              avg(funding_total)\n",
    "       from company\n",
    "       where EXTRACT(YEAR FROM CAST(founded_at as date)) = 2013\n",
    "       group by country_code)\n",
    "SELECT el.country_code,\n",
    "       el.avg as year_2011,\n",
    "       tw.avg as year_2012,\n",
    "       th.avg as year_2013\n",
    "from el\n",
    "join tw on el.country_code = tw.country_code\n",
    "join th on tw.country_code = th.country_code\n",
    "order by year_2011\tdesc;"
   ]
  }
 ],
 "metadata": {
  "kernelspec": {
   "display_name": "Python 3",
   "language": "python",
   "name": "python3"
  },
  "language_info": {
   "codemirror_mode": {
    "name": "ipython",
    "version": 3
   },
   "file_extension": ".py",
   "mimetype": "text/x-python",
   "name": "python",
   "nbconvert_exporter": "python",
   "pygments_lexer": "ipython3",
   "version": "3.7.0"
  }
 },
 "nbformat": 4,
 "nbformat_minor": 2
}
